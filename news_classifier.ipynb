{
  "nbformat": 4,
  "nbformat_minor": 0,
  "metadata": {
    "colab": {
      "name": "news_classifier.ipynb",
      "provenance": [],
      "collapsed_sections": [],
      "include_colab_link": true
    },
    "kernelspec": {
      "name": "python3",
      "display_name": "Python 3"
    }
  },
  "cells": [
    {
      "cell_type": "markdown",
      "metadata": {
        "id": "view-in-github",
        "colab_type": "text"
      },
      "source": [
        "<a href=\"https://colab.research.google.com/github/khushboogupta13/NEWS-CLASSIFIER-1/blob/master/news_classifier.ipynb\" target=\"_parent\"><img src=\"https://colab.research.google.com/assets/colab-badge.svg\" alt=\"Open In Colab\"/></a>"
      ]
    },
    {
      "cell_type": "code",
      "metadata": {
        "id": "nnYsvK1Vrr-2"
      },
      "source": [
        "import pandas as pd\n",
        "import numpy as np\n"
      ],
      "execution_count": null,
      "outputs": []
    },
    {
      "cell_type": "code",
      "metadata": {
        "id": "oRobUhSxrxQQ",
        "outputId": "7df724cc-294e-41e0-f1c3-e091ac39e96b",
        "colab": {
          "base_uri": "https://localhost:8080/",
          "height": 633
        }
      },
      "source": [
        "from google.colab import drive\n",
        "drive.mount('/content/drive')"
      ],
      "execution_count": null,
      "outputs": [
        {
          "output_type": "stream",
          "text": [
            "Go to this URL in a browser: https://accounts.google.com/o/oauth2/auth?client_id=947318989803-6bn6qk8qdgf4n4g3pfee6491hc0brc4i.apps.googleusercontent.com&redirect_uri=urn%3aietf%3awg%3aoauth%3a2.0%3aoob&scope=email%20https%3a%2f%2fwww.googleapis.com%2fauth%2fdocs.test%20https%3a%2f%2fwww.googleapis.com%2fauth%2fdrive%20https%3a%2f%2fwww.googleapis.com%2fauth%2fdrive.photos.readonly%20https%3a%2f%2fwww.googleapis.com%2fauth%2fpeopleapi.readonly&response_type=code\n",
            "\n",
            "Enter your authorization code:\n",
            "··········\n"
          ],
          "name": "stdout"
        },
        {
          "output_type": "error",
          "ename": "TIMEOUT",
          "evalue": "ignored",
          "traceback": [
            "\u001b[0;31m---------------------------------------------------------------------------\u001b[0m",
            "\u001b[0;31mTIMEOUT\u001b[0m                                   Traceback (most recent call last)",
            "\u001b[0;32m<ipython-input-2-d5df0069828e>\u001b[0m in \u001b[0;36m<module>\u001b[0;34m()\u001b[0m\n\u001b[1;32m      1\u001b[0m \u001b[0;32mfrom\u001b[0m \u001b[0mgoogle\u001b[0m\u001b[0;34m.\u001b[0m\u001b[0mcolab\u001b[0m \u001b[0;32mimport\u001b[0m \u001b[0mdrive\u001b[0m\u001b[0;34m\u001b[0m\u001b[0;34m\u001b[0m\u001b[0m\n\u001b[0;32m----> 2\u001b[0;31m \u001b[0mdrive\u001b[0m\u001b[0;34m.\u001b[0m\u001b[0mmount\u001b[0m\u001b[0;34m(\u001b[0m\u001b[0;34m'/content/drive'\u001b[0m\u001b[0;34m)\u001b[0m\u001b[0;34m\u001b[0m\u001b[0;34m\u001b[0m\u001b[0m\n\u001b[0m",
            "\u001b[0;32m/usr/local/lib/python3.6/dist-packages/google/colab/drive.py\u001b[0m in \u001b[0;36mmount\u001b[0;34m(mountpoint, force_remount, timeout_ms, use_metadata_server)\u001b[0m\n\u001b[1;32m    223\u001b[0m         \u001b[0moauth_prompt\u001b[0m\u001b[0;34m,\u001b[0m\u001b[0;34m\u001b[0m\u001b[0;34m\u001b[0m\u001b[0m\n\u001b[1;32m    224\u001b[0m         \u001b[0mproblem_and_stopped\u001b[0m\u001b[0;34m,\u001b[0m\u001b[0;34m\u001b[0m\u001b[0;34m\u001b[0m\u001b[0m\n\u001b[0;32m--> 225\u001b[0;31m         \u001b[0mdrive_exited\u001b[0m\u001b[0;34m,\u001b[0m\u001b[0;34m\u001b[0m\u001b[0;34m\u001b[0m\u001b[0m\n\u001b[0m\u001b[1;32m    226\u001b[0m     ])\n\u001b[1;32m    227\u001b[0m     \u001b[0;32mif\u001b[0m \u001b[0mcase\u001b[0m \u001b[0;34m==\u001b[0m \u001b[0;36m0\u001b[0m\u001b[0;34m:\u001b[0m\u001b[0;34m\u001b[0m\u001b[0;34m\u001b[0m\u001b[0m\n",
            "\u001b[0;32m/usr/local/lib/python3.6/dist-packages/pexpect/spawnbase.py\u001b[0m in \u001b[0;36mexpect\u001b[0;34m(self, pattern, timeout, searchwindowsize, async_, **kw)\u001b[0m\n\u001b[1;32m    342\u001b[0m         \u001b[0mcompiled_pattern_list\u001b[0m \u001b[0;34m=\u001b[0m \u001b[0mself\u001b[0m\u001b[0;34m.\u001b[0m\u001b[0mcompile_pattern_list\u001b[0m\u001b[0;34m(\u001b[0m\u001b[0mpattern\u001b[0m\u001b[0;34m)\u001b[0m\u001b[0;34m\u001b[0m\u001b[0;34m\u001b[0m\u001b[0m\n\u001b[1;32m    343\u001b[0m         return self.expect_list(compiled_pattern_list,\n\u001b[0;32m--> 344\u001b[0;31m                 timeout, searchwindowsize, async_)\n\u001b[0m\u001b[1;32m    345\u001b[0m \u001b[0;34m\u001b[0m\u001b[0m\n\u001b[1;32m    346\u001b[0m     def expect_list(self, pattern_list, timeout=-1, searchwindowsize=-1,\n",
            "\u001b[0;32m/usr/local/lib/python3.6/dist-packages/pexpect/spawnbase.py\u001b[0m in \u001b[0;36mexpect_list\u001b[0;34m(self, pattern_list, timeout, searchwindowsize, async_, **kw)\u001b[0m\n\u001b[1;32m    370\u001b[0m             \u001b[0;32mreturn\u001b[0m \u001b[0mexpect_async\u001b[0m\u001b[0;34m(\u001b[0m\u001b[0mexp\u001b[0m\u001b[0;34m,\u001b[0m \u001b[0mtimeout\u001b[0m\u001b[0;34m)\u001b[0m\u001b[0;34m\u001b[0m\u001b[0;34m\u001b[0m\u001b[0m\n\u001b[1;32m    371\u001b[0m         \u001b[0;32melse\u001b[0m\u001b[0;34m:\u001b[0m\u001b[0;34m\u001b[0m\u001b[0;34m\u001b[0m\u001b[0m\n\u001b[0;32m--> 372\u001b[0;31m             \u001b[0;32mreturn\u001b[0m \u001b[0mexp\u001b[0m\u001b[0;34m.\u001b[0m\u001b[0mexpect_loop\u001b[0m\u001b[0;34m(\u001b[0m\u001b[0mtimeout\u001b[0m\u001b[0;34m)\u001b[0m\u001b[0;34m\u001b[0m\u001b[0;34m\u001b[0m\u001b[0m\n\u001b[0m\u001b[1;32m    373\u001b[0m \u001b[0;34m\u001b[0m\u001b[0m\n\u001b[1;32m    374\u001b[0m     def expect_exact(self, pattern_list, timeout=-1, searchwindowsize=-1,\n",
            "\u001b[0;32m/usr/local/lib/python3.6/dist-packages/pexpect/expect.py\u001b[0m in \u001b[0;36mexpect_loop\u001b[0;34m(self, timeout)\u001b[0m\n\u001b[1;32m    179\u001b[0m             \u001b[0;32mreturn\u001b[0m \u001b[0mself\u001b[0m\u001b[0;34m.\u001b[0m\u001b[0meof\u001b[0m\u001b[0;34m(\u001b[0m\u001b[0me\u001b[0m\u001b[0;34m)\u001b[0m\u001b[0;34m\u001b[0m\u001b[0;34m\u001b[0m\u001b[0m\n\u001b[1;32m    180\u001b[0m         \u001b[0;32mexcept\u001b[0m \u001b[0mTIMEOUT\u001b[0m \u001b[0;32mas\u001b[0m \u001b[0me\u001b[0m\u001b[0;34m:\u001b[0m\u001b[0;34m\u001b[0m\u001b[0;34m\u001b[0m\u001b[0m\n\u001b[0;32m--> 181\u001b[0;31m             \u001b[0;32mreturn\u001b[0m \u001b[0mself\u001b[0m\u001b[0;34m.\u001b[0m\u001b[0mtimeout\u001b[0m\u001b[0;34m(\u001b[0m\u001b[0me\u001b[0m\u001b[0;34m)\u001b[0m\u001b[0;34m\u001b[0m\u001b[0;34m\u001b[0m\u001b[0m\n\u001b[0m\u001b[1;32m    182\u001b[0m         \u001b[0;32mexcept\u001b[0m\u001b[0;34m:\u001b[0m\u001b[0;34m\u001b[0m\u001b[0;34m\u001b[0m\u001b[0m\n\u001b[1;32m    183\u001b[0m             \u001b[0mself\u001b[0m\u001b[0;34m.\u001b[0m\u001b[0merrored\u001b[0m\u001b[0;34m(\u001b[0m\u001b[0;34m)\u001b[0m\u001b[0;34m\u001b[0m\u001b[0;34m\u001b[0m\u001b[0m\n",
            "\u001b[0;32m/usr/local/lib/python3.6/dist-packages/pexpect/expect.py\u001b[0m in \u001b[0;36mtimeout\u001b[0;34m(self, err)\u001b[0m\n\u001b[1;32m    142\u001b[0m             \u001b[0mexc\u001b[0m \u001b[0;34m=\u001b[0m \u001b[0mTIMEOUT\u001b[0m\u001b[0;34m(\u001b[0m\u001b[0mmsg\u001b[0m\u001b[0;34m)\u001b[0m\u001b[0;34m\u001b[0m\u001b[0;34m\u001b[0m\u001b[0m\n\u001b[1;32m    143\u001b[0m             \u001b[0mexc\u001b[0m\u001b[0;34m.\u001b[0m\u001b[0m__cause__\u001b[0m \u001b[0;34m=\u001b[0m \u001b[0;32mNone\u001b[0m    \u001b[0;31m# in Python 3.x we can use \"raise exc from None\"\u001b[0m\u001b[0;34m\u001b[0m\u001b[0;34m\u001b[0m\u001b[0m\n\u001b[0;32m--> 144\u001b[0;31m             \u001b[0;32mraise\u001b[0m \u001b[0mexc\u001b[0m\u001b[0;34m\u001b[0m\u001b[0;34m\u001b[0m\u001b[0m\n\u001b[0m\u001b[1;32m    145\u001b[0m \u001b[0;34m\u001b[0m\u001b[0m\n\u001b[1;32m    146\u001b[0m     \u001b[0;32mdef\u001b[0m \u001b[0merrored\u001b[0m\u001b[0;34m(\u001b[0m\u001b[0mself\u001b[0m\u001b[0;34m)\u001b[0m\u001b[0;34m:\u001b[0m\u001b[0;34m\u001b[0m\u001b[0;34m\u001b[0m\u001b[0m\n",
            "\u001b[0;31mTIMEOUT\u001b[0m: <pexpect.popen_spawn.PopenSpawn object at 0x7fe3a24d1ba8>\nsearcher: searcher_re:\n    0: re.compile('google.colab.drive MOUNTED')\n    1: re.compile('root@a0a9d2669738-216e411d857247a9bbad6c1077aaa759: ')\n    2: re.compile('(Go to this URL in a browser: https://.*)$')\n    3: re.compile('Drive File Stream encountered a problem and has stopped')\n    4: re.compile('drive EXITED')\n<pexpect.popen_spawn.PopenSpawn object at 0x7fe3a24d1ba8>\nsearcher: searcher_re:\n    0: re.compile('google.colab.drive MOUNTED')\n    1: re.compile('root@a0a9d2669738-216e411d857247a9bbad6c1077aaa759: ')\n    2: re.compile('(Go to this URL in a browser: https://.*)$')\n    3: re.compile('Drive File Stream encountered a problem and has stopped')\n    4: re.compile('drive EXITED')"
          ]
        }
      ]
    },
    {
      "cell_type": "code",
      "metadata": {
        "id": "ro5-fMlJsXyq"
      },
      "source": [
        "data = pd.read_csv(\"/content/drive/My Drive/fake news dataset/train.csv\")\n",
        "data.head()"
      ],
      "execution_count": null,
      "outputs": []
    },
    {
      "cell_type": "code",
      "metadata": {
        "id": "vq2rUqtns-hX"
      },
      "source": [
        "data.info() #missing values in the data"
      ],
      "execution_count": null,
      "outputs": []
    },
    {
      "cell_type": "code",
      "metadata": {
        "id": "939iqXkptDV9"
      },
      "source": [
        "data.describe()"
      ],
      "execution_count": null,
      "outputs": []
    },
    {
      "cell_type": "code",
      "metadata": {
        "id": "FXhm0dKFvvnx"
      },
      "source": [
        "data.columns"
      ],
      "execution_count": null,
      "outputs": []
    },
    {
      "cell_type": "code",
      "metadata": {
        "id": "_xmRauAUv2Aq"
      },
      "source": [
        "data = data.drop([\"id\",\"author\"],axis=1)"
      ],
      "execution_count": null,
      "outputs": []
    },
    {
      "cell_type": "code",
      "metadata": {
        "id": "ztgFlwACwAG4"
      },
      "source": [
        "data.head(7)"
      ],
      "execution_count": null,
      "outputs": []
    },
    {
      "cell_type": "code",
      "metadata": {
        "id": "Izom2wrRwF8x"
      },
      "source": [
        "data.isnull()"
      ],
      "execution_count": null,
      "outputs": []
    },
    {
      "cell_type": "code",
      "metadata": {
        "id": "QBWrWmZiwZi6"
      },
      "source": [
        "#to remove the missing values from the data\n",
        "data.dropna(inplace=True)"
      ],
      "execution_count": null,
      "outputs": []
    },
    {
      "cell_type": "code",
      "metadata": {
        "id": "aH9Ee56QwwwC"
      },
      "source": [
        "data.head()"
      ],
      "execution_count": null,
      "outputs": []
    },
    {
      "cell_type": "code",
      "metadata": {
        "id": "uqC0ykO9wyM-"
      },
      "source": [
        "data.info() #removed all missing data"
      ],
      "execution_count": null,
      "outputs": []
    },
    {
      "cell_type": "code",
      "metadata": {
        "id": "FeAmeWcTw2k2"
      },
      "source": [
        "mod_data = data.copy()\n",
        "mod_data.reset_index(inplace = True)"
      ],
      "execution_count": null,
      "outputs": []
    },
    {
      "cell_type": "code",
      "metadata": {
        "id": "nz40GiYQycL4"
      },
      "source": [
        "mod_data.head()"
      ],
      "execution_count": null,
      "outputs": []
    },
    {
      "cell_type": "code",
      "metadata": {
        "id": "YRVXzhSCyeNZ"
      },
      "source": [
        "mod_data.tail()"
      ],
      "execution_count": null,
      "outputs": []
    },
    {
      "cell_type": "code",
      "metadata": {
        "id": "JhEwwomvcAvB"
      },
      "source": [
        "mod_data['total'] = mod_data['title']+\" \"+mod_data['text']\n",
        "mod_data.head()"
      ],
      "execution_count": null,
      "outputs": []
    },
    {
      "cell_type": "code",
      "metadata": {
        "id": "wdjtN8Hbyg_o"
      },
      "source": [
        "mod_data.shape"
      ],
      "execution_count": null,
      "outputs": []
    },
    {
      "cell_type": "code",
      "metadata": {
        "id": "xm9uS0cKyo69"
      },
      "source": [
        "x = mod_data['total']\n",
        "y = mod_data['label']"
      ],
      "execution_count": null,
      "outputs": []
    },
    {
      "cell_type": "code",
      "metadata": {
        "id": "KXYAuJMPy1xA"
      },
      "source": [
        "y"
      ],
      "execution_count": null,
      "outputs": []
    },
    {
      "cell_type": "code",
      "metadata": {
        "id": "JEtio5gNy7V4"
      },
      "source": [
        "x"
      ],
      "execution_count": null,
      "outputs": []
    },
    {
      "cell_type": "code",
      "metadata": {
        "id": "LjXRZntPy9dj"
      },
      "source": [
        "x.shape"
      ],
      "execution_count": null,
      "outputs": []
    },
    {
      "cell_type": "code",
      "metadata": {
        "id": "fvjwVOh6zKJm"
      },
      "source": [
        "x = x.reset_index()\n",
        "x.head()"
      ],
      "execution_count": null,
      "outputs": []
    },
    {
      "cell_type": "code",
      "metadata": {
        "id": "KlacdaS4zVSn"
      },
      "source": [
        "x.tail()"
      ],
      "execution_count": null,
      "outputs": []
    },
    {
      "cell_type": "code",
      "metadata": {
        "id": "ofpn3MBK2voQ"
      },
      "source": [
        "x = x.drop(['index'],axis=1)"
      ],
      "execution_count": null,
      "outputs": []
    },
    {
      "cell_type": "code",
      "metadata": {
        "id": "lvQMDyhP26Ec"
      },
      "source": [
        "x.head()"
      ],
      "execution_count": null,
      "outputs": []
    },
    {
      "cell_type": "code",
      "metadata": {
        "id": "I0TzDlWhzXEx"
      },
      "source": [
        "#removing stopwords\n",
        "import nltk\n",
        "nltk.download(\"popular\")\n",
        "from nltk.corpus import stopwords\n",
        "from nltk.stem import PorterStemmer\n",
        "from nltk.tokenize import sent_tokenize, word_tokenize\n"
      ],
      "execution_count": null,
      "outputs": []
    },
    {
      "cell_type": "code",
      "metadata": {
        "id": "bvDD4ZHszvS7"
      },
      "source": [
        "sw = set(stopwords.words('english'))\n"
      ],
      "execution_count": null,
      "outputs": []
    },
    {
      "cell_type": "code",
      "metadata": {
        "id": "BSuVmvSB0rcI"
      },
      "source": [
        "mod_data.head()"
      ],
      "execution_count": null,
      "outputs": []
    },
    {
      "cell_type": "code",
      "metadata": {
        "id": "C0Swfkzm0xjp"
      },
      "source": [
        "import re\n",
        "stemmer = PorterStemmer()\n",
        "x.shape[0]"
      ],
      "execution_count": null,
      "outputs": []
    },
    {
      "cell_type": "code",
      "metadata": {
        "id": "8iDenDZZ1XAu"
      },
      "source": [
        "#removing special characters from title\n",
        "for i in range(x.shape[0]):\n",
        "  mod_sentence = re.sub('[^a-zA-Z0-9]', ' ', x['total'][i])"
      ],
      "execution_count": null,
      "outputs": []
    },
    {
      "cell_type": "code",
      "metadata": {
        "id": "iga4f4Ez3fV6"
      },
      "source": [
        "x.head()"
      ],
      "execution_count": null,
      "outputs": []
    },
    {
      "cell_type": "code",
      "metadata": {
        "id": "uwWxZNMj3hPJ"
      },
      "source": [
        "#removing punctuations\n",
        "import string\n",
        "for i in range(x.shape[0]):\n",
        "  x['total'][i] = x['total'][i].translate(str.maketrans('', '', string.punctuation))"
      ],
      "execution_count": null,
      "outputs": []
    },
    {
      "cell_type": "code",
      "metadata": {
        "id": "PwJ0d9Qy4L3j"
      },
      "source": [
        "x.head()"
      ],
      "execution_count": null,
      "outputs": []
    },
    {
      "cell_type": "code",
      "metadata": {
        "id": "K3xUHpJxe5mK"
      },
      "source": [
        "from nltk.stem import WordNetLemmatizer\n",
        "lemmatizer = WordNetLemmatizer()"
      ],
      "execution_count": null,
      "outputs": []
    },
    {
      "cell_type": "code",
      "metadata": {
        "id": "fRlFgJP5mlLB"
      },
      "source": [
        "x.shape[0]"
      ],
      "execution_count": null,
      "outputs": []
    },
    {
      "cell_type": "code",
      "metadata": {
        "id": "M4vKUNTpmree"
      },
      "source": [
        "x['total'][0]"
      ],
      "execution_count": null,
      "outputs": []
    },
    {
      "cell_type": "code",
      "metadata": {
        "id": "pFRCWaIo4NOq"
      },
      "source": [
        "#removing stopwords\n",
        "mod_title=[]\n",
        "for i in range(x.shape[0]):\n",
        "  # filter_sentence = ''\n",
        "  s = x['total'][i]\n",
        "  s = s.lower()\n",
        "  s = s.split()\n",
        "  sentence = [stemmer.stem(w) for w in s if w not in set(stopwords.words('english'))]\n",
        "  # for m in sentence:\n",
        "  #   filter_sentence = filter_sentence  + ' ' + str(lemmatizer.lemmatize(m)).lower()\n",
        "  sentence = \" \".join(sentence)\n",
        "  mod_title.append(sentence)\n"
      ],
      "execution_count": null,
      "outputs": []
    },
    {
      "cell_type": "code",
      "metadata": {
        "id": "s_NslVmj5vgV"
      },
      "source": [
        "mod_title[:2]"
      ],
      "execution_count": null,
      "outputs": []
    },
    {
      "cell_type": "code",
      "metadata": {
        "id": "VeCGuhyG5zZq"
      },
      "source": [
        "#implementing lemmatization\n",
        "# from nltk.stem import WordNetLemmatizer\n",
        "# lemmatizer = WordNetLemmatizer()\n",
        "\n",
        "# for i in range(len(mod_title)):\n",
        "#   words = nltk.word_tokenize(mod_title[i])\n",
        "#   words = [lemmatizer.lemmatize(w) for w in words]\n",
        "#   mod_title[i] = \" \".join(words)"
      ],
      "execution_count": null,
      "outputs": []
    },
    {
      "cell_type": "code",
      "metadata": {
        "id": "OF1w_tUkqV5k"
      },
      "source": [
        "from sklearn.feature_extraction.text import CountVectorizer\n",
        "from sklearn.feature_extraction.text import TfidfTransformer\n",
        "from sklearn.feature_extraction.text import TfidfVectorizer"
      ],
      "execution_count": null,
      "outputs": []
    },
    {
      "cell_type": "code",
      "metadata": {
        "id": "pwHEk0N5wqad"
      },
      "source": [
        "vectorizer = CountVectorizer()\n",
        "# vectorizer.fit_transform(mod_title)\n",
        "matrix = vectorizer.fit_transform(mod_title)\n",
        "tfidf = TfidfTransformer(norm = \"l2\")\n",
        "# tfidf.fit(matrix)\n",
        "tf_idf_matrix = tfidf.fit_transform(matrix)\n"
      ],
      "execution_count": null,
      "outputs": []
    },
    {
      "cell_type": "code",
      "metadata": {
        "id": "xkhewix15qef"
      },
      "source": [
        "print(tf_idf_matrix[:10])"
      ],
      "execution_count": null,
      "outputs": []
    },
    {
      "cell_type": "code",
      "metadata": {
        "id": "G-RoohBI6IMe"
      },
      "source": [
        "y.head()"
      ],
      "execution_count": null,
      "outputs": []
    },
    {
      "cell_type": "markdown",
      "metadata": {
        "id": "pKti5scgqp4l"
      },
      "source": [
        "USING LOGISTIC REGRESSION ALGORITHM\n"
      ]
    },
    {
      "cell_type": "code",
      "metadata": {
        "id": "0_OwejP66Wuq"
      },
      "source": [
        "#using several classification algorithms to train the model\n",
        "# using LOGISTIC REGRESSION\n",
        "\n",
        "from sklearn.linear_model import LogisticRegression\n",
        "\n",
        "model=LogisticRegression()\n",
        "model.fit(tf_idf_matrix,y)\n"
      ],
      "execution_count": null,
      "outputs": []
    },
    {
      "cell_type": "markdown",
      "metadata": {
        "id": "twHpCWaXqvG8"
      },
      "source": [
        "PREPROCESSING OF TEST DATASET"
      ]
    },
    {
      "cell_type": "code",
      "metadata": {
        "id": "SZIP_pgU69jJ"
      },
      "source": [
        "from google.colab import drive\n",
        "drive.mount('/content/drive')"
      ],
      "execution_count": null,
      "outputs": []
    },
    {
      "cell_type": "code",
      "metadata": {
        "id": "D_pj3VxQ7WPP"
      },
      "source": [
        "#preprocessing test.csv dataset\n",
        "test_data = pd.read_csv(\"/content/drive/My Drive/fake news dataset/test.csv\")\n",
        "test_data.head()"
      ],
      "execution_count": null,
      "outputs": []
    },
    {
      "cell_type": "code",
      "metadata": {
        "id": "IXpMiKdI7eZI"
      },
      "source": [
        "test_data.info()"
      ],
      "execution_count": null,
      "outputs": []
    },
    {
      "cell_type": "code",
      "metadata": {
        "id": "RsFVolZL7slE"
      },
      "source": [
        "test_data.describe()"
      ],
      "execution_count": null,
      "outputs": []
    },
    {
      "cell_type": "code",
      "metadata": {
        "id": "l6w-JyaQ75dC"
      },
      "source": [
        "test_data.columns"
      ],
      "execution_count": null,
      "outputs": []
    },
    {
      "cell_type": "code",
      "metadata": {
        "id": "Z5l01K6U7vhZ"
      },
      "source": [
        "test_data=test_data.drop(['id','author'],axis=1)"
      ],
      "execution_count": null,
      "outputs": []
    },
    {
      "cell_type": "code",
      "metadata": {
        "id": "sYIZEMeY7_EK"
      },
      "source": [
        "test_data.head()"
      ],
      "execution_count": null,
      "outputs": []
    },
    {
      "cell_type": "code",
      "metadata": {
        "id": "zNvIYHi88CmJ"
      },
      "source": [
        "test_data.isnull()"
      ],
      "execution_count": null,
      "outputs": []
    },
    {
      "cell_type": "code",
      "metadata": {
        "id": "O128UMK78X-e"
      },
      "source": [
        "#removal of missing values from test dataset\n",
        "test_data.dropna(inplace=True)"
      ],
      "execution_count": null,
      "outputs": []
    },
    {
      "cell_type": "code",
      "metadata": {
        "id": "gfT8Tnhz8f8K"
      },
      "source": [
        "test_data.info()"
      ],
      "execution_count": null,
      "outputs": []
    },
    {
      "cell_type": "code",
      "metadata": {
        "id": "-9K9khNI8iMy"
      },
      "source": [
        "mod_test_data=test_data.copy()"
      ],
      "execution_count": null,
      "outputs": []
    },
    {
      "cell_type": "code",
      "metadata": {
        "id": "deEQvhjY-AQS"
      },
      "source": [
        "mod_test_data.reset_index(inplace=True)"
      ],
      "execution_count": null,
      "outputs": []
    },
    {
      "cell_type": "code",
      "metadata": {
        "id": "z4_rZtwW-E9G"
      },
      "source": [
        "mod_test_data.head()"
      ],
      "execution_count": null,
      "outputs": []
    },
    {
      "cell_type": "code",
      "metadata": {
        "id": "93ApeH2U-LRm"
      },
      "source": [
        "mod_test_data['total'] = mod_test_data['title']+\" \"+mod_test_data['text']\n",
        "mod_test_data.head()"
      ],
      "execution_count": null,
      "outputs": []
    },
    {
      "cell_type": "code",
      "metadata": {
        "id": "qJcTAHXX-hJk"
      },
      "source": [
        "mod_test_data.columns\n"
      ],
      "execution_count": null,
      "outputs": []
    },
    {
      "cell_type": "code",
      "metadata": {
        "id": "nBxUXoHH-zrv"
      },
      "source": [
        "x_test = mod_test_data['total']\n",
        "x_test.head()"
      ],
      "execution_count": null,
      "outputs": []
    },
    {
      "cell_type": "code",
      "metadata": {
        "id": "GB1TPyfL_Mzk"
      },
      "source": [
        "x_test = x_test.reset_index()\n",
        "x_test.head()"
      ],
      "execution_count": null,
      "outputs": []
    },
    {
      "cell_type": "code",
      "metadata": {
        "id": "YrfW7K0k_eKX"
      },
      "source": [
        "x_test=x_test.drop(['index'],axis=1)"
      ],
      "execution_count": null,
      "outputs": []
    },
    {
      "cell_type": "code",
      "metadata": {
        "id": "yJ2OFXtUACTv"
      },
      "source": [
        "x_test.head()"
      ],
      "execution_count": null,
      "outputs": []
    },
    {
      "cell_type": "code",
      "metadata": {
        "id": "k3JHCn_NAIlk"
      },
      "source": [
        "x_test.shape\n",
        "x_test.shape[0]"
      ],
      "execution_count": null,
      "outputs": []
    },
    {
      "cell_type": "code",
      "metadata": {
        "id": "W0hqnffLAwb0"
      },
      "source": [
        "#removal of special characters and punctuations\n",
        "for i in range(x_test.shape[0]):\n",
        "  x_test['total'][i] = re.sub(r\"[^a-zA-Z0-9]+\", ' ', x_test['total'][i])\n",
        "  x_test['total'][i] = x_test['total'][i].translate(str.maketrans('', '', string.punctuation))"
      ],
      "execution_count": null,
      "outputs": []
    },
    {
      "cell_type": "code",
      "metadata": {
        "id": "O71mzNzJCdIb"
      },
      "source": [
        "x_test.head()"
      ],
      "execution_count": null,
      "outputs": []
    },
    {
      "cell_type": "code",
      "metadata": {
        "id": "4BUyommUCiI4"
      },
      "source": [
        "x_test.tail()"
      ],
      "execution_count": null,
      "outputs": []
    },
    {
      "cell_type": "code",
      "metadata": {
        "id": "UYnot83yCsL6"
      },
      "source": [
        "x_test['total'][0]"
      ],
      "execution_count": null,
      "outputs": []
    },
    {
      "cell_type": "code",
      "metadata": {
        "id": "eWp_VL2xDH7w"
      },
      "source": [
        "#removing stopwords and stemming\n",
        "mod_test=[]\n",
        "for i in range(x_test.shape[0]):\n",
        "  # filter_sentence = ''\n",
        "  s = x_test['total'][i]\n",
        "  s = s.lower()\n",
        "  s = s.split()\n",
        "  sentence = [stemmer.stem(w) for w in s if w not in set(stopwords.words('english'))]\n",
        "  sentence = \" \".join(sentence)\n",
        "  mod_test.append(sentence)"
      ],
      "execution_count": null,
      "outputs": []
    },
    {
      "cell_type": "code",
      "metadata": {
        "id": "Dca3YYGEDyE9"
      },
      "source": [
        "mod_test[:1]"
      ],
      "execution_count": null,
      "outputs": []
    },
    {
      "cell_type": "code",
      "metadata": {
        "id": "_CB3ckg0Ghta"
      },
      "source": [
        "test_matrix = vectorizer.transform(mod_test)"
      ],
      "execution_count": null,
      "outputs": []
    },
    {
      "cell_type": "code",
      "metadata": {
        "id": "R8nmALDCHIBY"
      },
      "source": [
        "\n",
        "tf_idf_test_matrix = tfidf.transform(test_matrix)\n"
      ],
      "execution_count": null,
      "outputs": []
    },
    {
      "cell_type": "code",
      "metadata": {
        "id": "htQ1soCBJ3V_"
      },
      "source": [
        "print(tf_idf_test_matrix[:3])"
      ],
      "execution_count": null,
      "outputs": []
    },
    {
      "cell_type": "code",
      "metadata": {
        "id": "xIJ_fy7IL7Wr"
      },
      "source": [
        "print(tf_idf_matrix[:3])"
      ],
      "execution_count": null,
      "outputs": []
    },
    {
      "cell_type": "code",
      "metadata": {
        "id": "ZTWkK7_OJ7It"
      },
      "source": [
        "model.predict(tf_idf_test_matrix) #Predicted outcome of test.csv using logistic regression algorithm"
      ],
      "execution_count": null,
      "outputs": []
    },
    {
      "cell_type": "code",
      "metadata": {
        "id": "BQn5AXl_KLOc"
      },
      "source": [
        "#checking accuracy using logistic regression by splitting train.csv data\n",
        "from sklearn.model_selection import train_test_split\n",
        "x_train,x_test2,y_train,y_test2 = train_test_split(tf_idf_matrix,y,test_size=0.33, random_state=42)"
      ],
      "execution_count": null,
      "outputs": []
    },
    {
      "cell_type": "code",
      "metadata": {
        "id": "i9yVpquOoF1y"
      },
      "source": [
        "model.fit(x_train,y_train)"
      ],
      "execution_count": null,
      "outputs": []
    },
    {
      "cell_type": "code",
      "metadata": {
        "id": "El7BObkPoX5g"
      },
      "source": [
        "Accuracy = model.score(x_test2,y_test2) #using logistic regression\n",
        "print(\"The accuracy of the model using logistic regression is:\",Accuracy*100)"
      ],
      "execution_count": null,
      "outputs": []
    },
    {
      "cell_type": "code",
      "metadata": {
        "id": "j385Tb5Toe1I"
      },
      "source": [
        "from sklearn import metrics\n",
        "import itertools\n",
        "import matplotlib.pyplot as plt\n"
      ],
      "execution_count": null,
      "outputs": []
    },
    {
      "cell_type": "code",
      "metadata": {
        "id": "rB6hVaLkrk86"
      },
      "source": [
        "predicted_train = model.predict(x_test2) #predicted data for train.csv using logistic regression"
      ],
      "execution_count": null,
      "outputs": []
    },
    {
      "cell_type": "code",
      "metadata": {
        "id": "xbjAWuiBsJOk"
      },
      "source": [
        "#confusion matrix, precision, recall, F1 score (logistic regression model)\n",
        "\n",
        "from sklearn.metrics import classification_report\n",
        "print(classification_report(y_test2,predicted_train))"
      ],
      "execution_count": null,
      "outputs": []
    },
    {
      "cell_type": "code",
      "metadata": {
        "id": "nQo6LvyNuROi"
      },
      "source": [
        "from sklearn.metrics import confusion_matrix\n",
        "print(confusion_matrix(y_test2,predicted_train))"
      ],
      "execution_count": null,
      "outputs": []
    },
    {
      "cell_type": "code",
      "metadata": {
        "id": "JQ0e-lGlvMhR"
      },
      "source": [
        "from sklearn.metrics import plot_confusion_matrix"
      ],
      "execution_count": null,
      "outputs": []
    },
    {
      "cell_type": "code",
      "metadata": {
        "id": "eIXIOdAyxGJG"
      },
      "source": [
        "plot_confusion_matrix(model,x_test2,y_test2,values_format='0.0f')"
      ],
      "execution_count": null,
      "outputs": []
    },
    {
      "cell_type": "code",
      "metadata": {
        "id": "qN5O-_AjsI_u"
      },
      "source": [
        "#calculating cross value score\n",
        "from sklearn.model_selection import cross_val_score\n",
        "cross_val_accuracy = cross_val_score(model,x_train,y_train,cv=3)\n",
        "print(cross_val_accuracy)\n",
        "print(cross_val_accuracy.mean())"
      ],
      "execution_count": null,
      "outputs": []
    },
    {
      "cell_type": "markdown",
      "metadata": {
        "id": "kfvpDzMOycp4"
      },
      "source": [
        "PASSIVE AGRESSIVE ALGORITHM"
      ]
    },
    {
      "cell_type": "code",
      "metadata": {
        "id": "JM12tda2yfP9"
      },
      "source": [
        "from sklearn.linear_model import PassiveAggressiveClassifier"
      ],
      "execution_count": null,
      "outputs": []
    },
    {
      "cell_type": "code",
      "metadata": {
        "id": "fIn__ap3zaNj"
      },
      "source": [
        "PAC=PassiveAggressiveClassifier()"
      ],
      "execution_count": null,
      "outputs": []
    },
    {
      "cell_type": "code",
      "metadata": {
        "id": "CsMhAU0dzeZf"
      },
      "source": [
        "PAC.fit(tf_idf_matrix,y)"
      ],
      "execution_count": null,
      "outputs": []
    },
    {
      "cell_type": "code",
      "metadata": {
        "id": "pok75DVczoC3"
      },
      "source": [
        "PAC.predict(tf_idf_test_matrix)"
      ],
      "execution_count": null,
      "outputs": []
    },
    {
      "cell_type": "code",
      "metadata": {
        "id": "u8VcY9DZztq6"
      },
      "source": [
        "predicted_train = PAC.predict(x_test2)"
      ],
      "execution_count": null,
      "outputs": []
    },
    {
      "cell_type": "code",
      "metadata": {
        "id": "OI2nx5tw0AlT"
      },
      "source": [
        "print(classification_report(y_test2,predicted_train))"
      ],
      "execution_count": null,
      "outputs": []
    },
    {
      "cell_type": "code",
      "metadata": {
        "id": "bMFlFMiO0cU0"
      },
      "source": [
        "cross_val_accuracy = cross_val_score(PAC,x_train,y_train,cv=3)\n",
        "print(cross_val_accuracy)\n",
        "print(cross_val_accuracy.mean())"
      ],
      "execution_count": null,
      "outputs": []
    },
    {
      "cell_type": "code",
      "metadata": {
        "id": "Vp-fOedNsniP"
      },
      "source": [
        "print(confusion_matrix(y_test2,predicted_train))"
      ],
      "execution_count": null,
      "outputs": []
    },
    {
      "cell_type": "code",
      "metadata": {
        "id": "tdsfD6edtHc-"
      },
      "source": [
        "plot_confusion_matrix(PAC,x_test2,y_test2,values_format='0.0f')"
      ],
      "execution_count": null,
      "outputs": []
    },
    {
      "cell_type": "markdown",
      "metadata": {
        "id": "wJQ4Ll9NuUf1"
      },
      "source": [
        "LINEAR SUPPORT VECTOR CLASSIFIER"
      ]
    },
    {
      "cell_type": "code",
      "metadata": {
        "id": "NevYngP3tNBv"
      },
      "source": [
        "from sklearn.svm import LinearSVC"
      ],
      "execution_count": null,
      "outputs": []
    },
    {
      "cell_type": "code",
      "metadata": {
        "id": "frVQWzg9uiIa"
      },
      "source": [
        "LSVC = LinearSVC()\n",
        "LSVC.fit(x_train,y_train)"
      ],
      "execution_count": null,
      "outputs": []
    },
    {
      "cell_type": "code",
      "metadata": {
        "id": "CL1C6KT8u39m"
      },
      "source": [
        "y_pred = LSVC.predict(x_test2)"
      ],
      "execution_count": null,
      "outputs": []
    },
    {
      "cell_type": "code",
      "metadata": {
        "id": "QUfPb473u9pq"
      },
      "source": [
        "print(\"The accuracy of the model using Linear SVC is:\",LSVC.score(x_test2,y_test2)*100)"
      ],
      "execution_count": null,
      "outputs": []
    },
    {
      "cell_type": "code",
      "metadata": {
        "id": "izWC5d9nvq0q"
      },
      "source": [
        "print(confusion_matrix(y_test2,y_pred))"
      ],
      "execution_count": null,
      "outputs": []
    },
    {
      "cell_type": "code",
      "metadata": {
        "id": "lS_97AyvvKKM"
      },
      "source": [
        "print(plot_confusion_matrix(LSVC,x_test2,y_test2,values_format='0.0f'))"
      ],
      "execution_count": null,
      "outputs": []
    },
    {
      "cell_type": "code",
      "metadata": {
        "id": "Ea7e51sCvmic"
      },
      "source": [
        "print(classification_report(y_test2,y_pred))"
      ],
      "execution_count": null,
      "outputs": []
    },
    {
      "cell_type": "code",
      "metadata": {
        "id": "hoiI08IowAQE"
      },
      "source": [
        "cross_val_accuracy = cross_val_score(LSVC,x_train,y_train,cv=3)\n",
        "print(cross_val_accuracy)\n",
        "print(cross_val_accuracy.mean())"
      ],
      "execution_count": null,
      "outputs": []
    },
    {
      "cell_type": "code",
      "metadata": {
        "id": "0lFFN7RIwGaY"
      },
      "source": [
        "LSVC2=LinearSVC() #predicting for test.csv dataset\n",
        "LSVC2.fit(tf_idf_matrix,y)"
      ],
      "execution_count": null,
      "outputs": []
    },
    {
      "cell_type": "code",
      "metadata": {
        "id": "-wl7hUBwwNWo"
      },
      "source": [
        "LSVC2.predict(tf_idf_test_matrix)"
      ],
      "execution_count": null,
      "outputs": []
    },
    {
      "cell_type": "markdown",
      "metadata": {
        "id": "vm54RmxYwXH-"
      },
      "source": [
        "MULTINOMIAL NAIVE BAYES ALGORITHM"
      ]
    },
    {
      "cell_type": "code",
      "metadata": {
        "id": "BTkjYbRLwRZO"
      },
      "source": [
        "from sklearn.naive_bayes import MultinomialNB\n",
        "MNB = MultinomialNB()\n",
        "MNB.fit(x_train,y_train)"
      ],
      "execution_count": null,
      "outputs": []
    },
    {
      "cell_type": "code",
      "metadata": {
        "id": "NVp--N6QxLcp"
      },
      "source": [
        "y_pred = MNB.predict(x_test2)"
      ],
      "execution_count": null,
      "outputs": []
    },
    {
      "cell_type": "code",
      "metadata": {
        "id": "GiDV00LbxQVZ"
      },
      "source": [
        "print(\"The accuracy of the model using Multinomial Naive Bayes Algorithm is:\",MNB.score(x_test2,y_test2)*100)"
      ],
      "execution_count": null,
      "outputs": []
    },
    {
      "cell_type": "code",
      "metadata": {
        "id": "UlNJOLvpxbG9"
      },
      "source": [
        "print(confusion_matrix(y_test2,y_pred))"
      ],
      "execution_count": null,
      "outputs": []
    },
    {
      "cell_type": "code",
      "metadata": {
        "id": "ABRAF6fsxp4K"
      },
      "source": [
        "print(plot_confusion_matrix(MNB,x_test2,y_test2,values_format='0.0f'))"
      ],
      "execution_count": null,
      "outputs": []
    },
    {
      "cell_type": "code",
      "metadata": {
        "id": "gxKEoqoQxzBd"
      },
      "source": [
        "print(classification_report(y_test2,y_pred))"
      ],
      "execution_count": null,
      "outputs": []
    },
    {
      "cell_type": "code",
      "metadata": {
        "id": "cRNZdu6tx9LX"
      },
      "source": [
        "cross_val_accuracy = cross_val_score(MNB,x_train,y_train,cv=3)\n",
        "print(cross_val_accuracy)\n",
        "print(cross_val_accuracy.mean())"
      ],
      "execution_count": null,
      "outputs": []
    },
    {
      "cell_type": "code",
      "metadata": {
        "id": "hgbP_Oy1yCbw"
      },
      "source": [
        "MNB2 = MultinomialNB() #predicting the outcome on test.csv dataset\n",
        "MNB2.fit(tf_idf_matrix,y)\n",
        "MNB2.predict(tf_idf_test_matrix)"
      ],
      "execution_count": null,
      "outputs": []
    },
    {
      "cell_type": "markdown",
      "metadata": {
        "id": "2jL_UBTJyX3L"
      },
      "source": [
        "DECISION TREES ALGORITHM"
      ]
    },
    {
      "cell_type": "code",
      "metadata": {
        "id": "C_OL8XkfzRwI"
      },
      "source": [
        "from sklearn.tree import DecisionTreeClassifier\n",
        "DTC = DecisionTreeClassifier(max_depth=5)\n",
        "DTC.fit(x_train,y_train)\n",
        "y_pred = DTC.predict(x_test2)"
      ],
      "execution_count": null,
      "outputs": []
    },
    {
      "cell_type": "code",
      "metadata": {
        "id": "8-bE2FTbzk_3"
      },
      "source": [
        "print(\"The accuracy of the model using Decision Tree Algorithm is:\",DTC.score(x_test2,y_test2)*100)"
      ],
      "execution_count": null,
      "outputs": []
    },
    {
      "cell_type": "code",
      "metadata": {
        "id": "Q257wFswzxH4"
      },
      "source": [
        "print(confusion_matrix(y_test2,y_pred))"
      ],
      "execution_count": null,
      "outputs": []
    },
    {
      "cell_type": "code",
      "metadata": {
        "id": "8PbdUeWnz4Rv"
      },
      "source": [
        "print(plot_confusion_matrix(DTC,x_test2,y_test2,values_format = '0.0f'))"
      ],
      "execution_count": null,
      "outputs": []
    },
    {
      "cell_type": "code",
      "metadata": {
        "id": "fyU9obS-0CCz"
      },
      "source": [
        "print(classification_report(y_test2,y_pred))"
      ],
      "execution_count": null,
      "outputs": []
    },
    {
      "cell_type": "code",
      "metadata": {
        "id": "Mwm3YWn40Ij9"
      },
      "source": [
        "cross_val_accuracy = cross_val_score(DTC,x_train,y_train,cv=3)\n",
        "print(cross_val_accuracy)\n",
        "print(cross_val_accuracy.mean())"
      ],
      "execution_count": null,
      "outputs": []
    },
    {
      "cell_type": "code",
      "metadata": {
        "id": "WISFXxgU0Neo"
      },
      "source": [
        "#predicting the outcome on test.csv dataset\n",
        "DTC2 = DecisionTreeClassifier(max_depth=5)\n",
        "DTC2.fit(tf_idf_matrix,y)\n",
        "DTC2.predict(tf_idf_test_matrix)"
      ],
      "execution_count": null,
      "outputs": []
    },
    {
      "cell_type": "code",
      "metadata": {
        "id": "jyWLzFkP0uBD"
      },
      "source": [
        "#using Passive Agressive Classifier as the final Classification algorithm as it gave the best accuracy(96.46%) on training dataset\n",
        "PAC2 = PassiveAggressiveClassifier()\n",
        "PAC2.fit(tf_idf_matrix,y)\n",
        "PAC2.predict(tf_idf_test_matrix)"
      ],
      "execution_count": null,
      "outputs": []
    }
  ]
}